{
  "nbformat": 4,
  "nbformat_minor": 0,
  "metadata": {
    "colab": {
      "provenance": []
    },
    "kernelspec": {
      "name": "python3",
      "display_name": "Python 3"
    },
    "language_info": {
      "name": "python"
    }
  },
  "cells": [
    {
      "cell_type": "markdown",
      "source": [
        "**Yash Mharav SE3 63**"
      ],
      "metadata": {
        "id": "1BVpvMHEgZ_G"
      }
    },
    {
      "cell_type": "markdown",
      "metadata": {
        "id": "view-in-github"
      },
      "source": [
        "<a href=\"https://colab.research.google.com/github/Komal-Vaishya/PYTHON/blob/master/Exp_12.ipynb\" target=\"_parent\"><img src=\"https://colab.research.google.com/assets/colab-badge.svg\" alt=\"Open In Colab\"/></a>"
      ]
    },
    {
      "cell_type": "code",
      "execution_count": null,
      "metadata": {
        "colab": {
          "base_uri": "https://localhost:8080/"
        },
        "id": "QrjvezqlfqCb",
        "outputId": "765500a3-6d75-4285-a8ed-7a07d9b8c3fd"
      },
      "outputs": [
        {
          "output_type": "stream",
          "name": "stdout",
          "text": [
            "Original DataFrame:\n",
            "    Product  Price  Stock     Category\n",
            "0    Laptop   1200     10  Electronics\n",
            "1     Phone    800     25  Electronics\n",
            "2    Tablet    300     30  Electronics\n",
            "3   Monitor    400     15  Accessories\n",
            "4  Keyboard    100     50  Accessories\n",
            "\n",
            "DataFrame after adding Discounted Price:\n",
            "    Product  Price  Stock     Category  Discounted Price\n",
            "0    Laptop   1200     10  Electronics            1080.0\n",
            "1     Phone    800     25  Electronics             720.0\n",
            "2    Tablet    300     30  Electronics             270.0\n",
            "3   Monitor    400     15  Accessories             360.0\n",
            "4  Keyboard    100     50  Accessories              90.0\n",
            "\n",
            "Filtered Products (Price > 500):\n",
            "  Product  Price  Stock     Category  Discounted Price\n",
            "0  Laptop   1200     10  Electronics            1080.0\n",
            "1   Phone    800     25  Electronics             720.0\n",
            "\n",
            "Average Price per Category:\n",
            "Category\n",
            "Accessories    250.000000\n",
            "Electronics    766.666667\n",
            "Name: Price, dtype: float64\n",
            "\n",
            "Data saved to product_data.csv\n"
          ]
        }
      ],
      "source": [
        "import pandas as pd\n",
        "\n",
        "# Creating a DataFrame with Product Data\n",
        "data = {\n",
        "    \"Product\": [\"Laptop\", \"Phone\", \"Tablet\", \"Monitor\", \"Keyboard\"],\n",
        "    \"Price\": [1200, 800, 300, 400, 100],\n",
        "    \"Stock\": [10, 25, 30, 15, 50],\n",
        "    \"Category\": [\"Electronics\", \"Electronics\", \"Electronics\", \"Accessories\", \"Accessories\"]\n",
        "}\n",
        "df = pd.DataFrame(data)\n",
        "\n",
        "# Display the DataFrame\n",
        "print(\"Original DataFrame:\")\n",
        "print(df)\n",
        "\n",
        "# Adding a Discounted Price Column\n",
        "df[\"Discounted Price\"] = df[\"Price\"] * 0.90  # Applying a 10% discount\n",
        "print(\"\\nDataFrame after adding Discounted Price:\")\n",
        "print(df)\n",
        "\n",
        "# Filtering products priced above $500\n",
        "filtered_df = df[df[\"Price\"] > 500]\n",
        "print(\"\\nFiltered Products (Price > 500):\")\n",
        "print(filtered_df)\n",
        "\n",
        "# Grouping by Category and computing average price\n",
        "category_avg_price = df.groupby(\"Category\")[\"Price\"].mean()\n",
        "print(\"\\nAverage Price per Category:\")\n",
        "print(category_avg_price)\n",
        "\n",
        "# Saving to CSV\n",
        "df.to_csv(\"product_data.csv\", index=False)\n",
        "print(\"\\nData saved to product_data.csv\")"
      ]
    }
  ]
}