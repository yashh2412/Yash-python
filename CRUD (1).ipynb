{
 "cells": [
  {
   "cell_type": "markdown",
   "id": "436e11ed-2588-40ec-aa7d-0b0f213978b5",
   "metadata": {},
   "source": [
    "### Importing"
   ]
  },
  {
   "cell_type": "code",
   "execution_count": 2,
   "id": "d8d5853b-0622-480b-9e53-c8aed9741d9b",
   "metadata": {},
   "outputs": [],
   "source": [
    "import sqlite3"
   ]
  },
  {
   "cell_type": "markdown",
   "id": "4abf5669-8db7-40e4-9be5-be7c6081f274",
   "metadata": {},
   "source": [
    "### Connecting to Database"
   ]
  },
  {
   "cell_type": "code",
   "execution_count": 15,
   "id": "ac5ecf79-8edc-49ef-84e3-a8923ba52bd7",
   "metadata": {},
   "outputs": [],
   "source": [
    "connection = sqlite3.connect ('./genericDatabase.db')\n",
    "cursor = connection.cursor ()"
   ]
  },
  {
   "cell_type": "markdown",
   "id": "27fd063a-7fe1-46b5-8242-13d853d0d021",
   "metadata": {},
   "source": [
    "### Create Table"
   ]
  },
  {
   "cell_type": "code",
   "execution_count": 4,
   "id": "f2695556-4c9a-437d-b0cc-6b33cf79fd28",
   "metadata": {},
   "outputs": [],
   "source": [
    "cursor.execute('''\n",
    "    CREATE TABLE IF NOT EXISTS student (\n",
    "        id INTEGER PRIMARY KEY AUTOINCREMENT,\n",
    "        name TEXT NOT NULL,\n",
    "        age INTEGER NOT NULL\n",
    "    )\n",
    "''')\n",
    "\n",
    "connection.commit()"
   ]
  },
  {
   "cell_type": "markdown",
   "id": "393ac591-b274-445a-872d-a5bc8d2cedc8",
   "metadata": {},
   "source": [
    "# CRUD Operations"
   ]
  },
  {
   "cell_type": "markdown",
   "id": "65a39692-89d0-4225-86eb-1e50c363f42a",
   "metadata": {},
   "source": [
    "### Create (Insertion)"
   ]
  },
  {
   "cell_type": "code",
   "execution_count": 5,
   "id": "13e437d0-2dd2-4acd-b841-01c0725918bb",
   "metadata": {},
   "outputs": [
    {
     "name": "stdout",
     "output_type": "stream",
     "text": [
      "Record added successfully!\n",
      "Record added successfully!\n",
      "Record added successfully!\n",
      "Record added successfully!\n"
     ]
    }
   ],
   "source": [
    "def create_student(name, age):\n",
    "    cursor.execute('''\n",
    "        INSERT INTO student(name, age) \n",
    "        VALUES (?, ?)\n",
    "    ''', (name, age))\n",
    "    connection.commit()\n",
    "    print(\"Record added successfully!\")\n",
    "\n",
    "create_student(\"Griffith\", 20)\n",
    "create_student(\"Guts\", 21)\n",
    "create_student(\"alice\", 22)\n",
    "create_student(\"yash\", 23)"
   ]
  },
  {
   "cell_type": "markdown",
   "id": "ec0e95c7-8033-4f90-af57-d6f84b6d07c0",
   "metadata": {},
   "source": [
    "### Read (Retrieve)"
   ]
  },
  {
   "cell_type": "code",
   "execution_count": 23,
   "id": "c243a1d6-ecf7-4490-badd-7a3e7e4c9b94",
   "metadata": {},
   "outputs": [
    {
     "name": "stdout",
     "output_type": "stream",
     "text": [
      "Student Records:\n",
      "(7, 'Guts', 21)\n",
      "(8, 'alice', 22)\n",
      "(9, 'Griffith', 20)\n",
      "(10, 'Guts', 21)\n",
      "(11, 'alice', 22)\n",
      "(12, 'Griffith', 20)\n",
      "(13, 'Guts', 21)\n",
      "(14, 'alice', 22)\n",
      "(15, 'yash', 23)\n",
      "(16, 'Griffith', 20)\n",
      "(17, 'Guts', 21)\n",
      "(18, 'alice', 22)\n",
      "(19, 'yash', 23)\n"
     ]
    }
   ],
   "source": [
    "def read_students():\n",
    "    cursor.execute('SELECT * FROM student')\n",
    "    rows = cursor.fetchall()\n",
    "    print(\"Student Records:\")\n",
    "    for row in rows:\n",
    "        print(row)\n",
    "\n",
    "read_students()"
   ]
  },
  {
   "cell_type": "markdown",
   "id": "8bd02381-6af1-4fa2-b2b2-3bd8223936c4",
   "metadata": {},
   "source": [
    "### Update"
   ]
  },
  {
   "cell_type": "code",
   "execution_count": 7,
   "id": "8095a1d0-2410-47de-b5ed-c10399d46dfb",
   "metadata": {},
   "outputs": [
    {
     "name": "stdout",
     "output_type": "stream",
     "text": [
      "Student age updated successfully!\n",
      "Student Records:\n",
      "(1, 'Griffith', 20)\n",
      "(2, 'Guts', 22)\n",
      "(3, 'Griffith', 20)\n",
      "(4, 'Guts', 22)\n",
      "(5, 'Griffith', 20)\n",
      "(6, 'Guts', 22)\n",
      "(7, 'Griffith', 20)\n",
      "(8, 'Guts', 22)\n"
     ]
    }
   ],
   "source": [
    "def update_student_age(student_id, new_age):\n",
    "    cursor.execute('''\n",
    "        update student\n",
    "        set age = ?\n",
    "        where id = ?\n",
    "\n",
    "\n",
    "        \n",
    "    ''', (new_age, student_id))\n",
    "    connection.commit()\n",
    "    print(\"Student age updated successfully!\")\n",
    "\n",
    "update_student_age(1, 22)  # Updating Alice's age to 21\n",
    "read_students()"
   ]
  },
  {
   "cell_type": "markdown",
   "id": "3df56e64-c969-4c3c-b521-28d4609d340e",
   "metadata": {},
   "source": [
    "### Delete"
   ]
  },
  {
   "cell_type": "code",
   "execution_count": 18,
   "id": "c7983076-8eaf-4d0e-8f21-a9fdc70dbad0",
   "metadata": {},
   "outputs": [
    {
     "name": "stdout",
     "output_type": "stream",
     "text": [
      "Student deleted successfully!\n",
      "Student deleted successfully!\n",
      "Student deleted successfully!\n",
      "Student deleted successfully!\n",
      "Student deleted successfully!\n",
      "Student deleted successfully!\n",
      "Student Records:\n",
      "(7, 'Guts', 21)\n",
      "(8, 'alice', 22)\n",
      "(9, 'Griffith', 20)\n",
      "(10, 'Guts', 21)\n",
      "(11, 'alice', 22)\n",
      "(12, 'Griffith', 20)\n",
      "(13, 'Guts', 21)\n",
      "(14, 'alice', 22)\n",
      "(15, 'yash', 23)\n",
      "(16, 'Griffith', 20)\n",
      "(17, 'Guts', 21)\n",
      "(18, 'alice', 22)\n",
      "(19, 'yash', 23)\n"
     ]
    }
   ],
   "source": [
    "def delete_student(student_id):\n",
    "    cursor.execute('''\n",
    "        delete \n",
    "        from student\n",
    "        where id = ?;\n",
    "    ''', (student_id,))\n",
    "    connection.commit()\n",
    "    print(\"Student deleted successfully!\")\n",
    "\n",
    "delete_student(1)  # Deleting Bob's record\n",
    "delete_student(2)  # Deleting Bob's record\n",
    "delete_student(3)  # Deleting Bob's record\n",
    "delete_student(4)  # Deleting Bob's record\n",
    "delete_student(5)  # Deleting Bob's record\n",
    "delete_student(6)  # Deleting Bob's record\n",
    "read_students()"
   ]
  },
  {
   "cell_type": "markdown",
   "id": "a7e69e80-785e-4997-8531-693cf761fcac",
   "metadata": {},
   "source": [
    "### Closing the database connection"
   ]
  },
  {
   "cell_type": "code",
   "execution_count": 14,
   "id": "e823ee56-af78-4553-a760-d38b458fb4ca",
   "metadata": {},
   "outputs": [],
   "source": [
    "connection.close ()"
   ]
  },
  {
   "cell_type": "code",
   "execution_count": null,
   "id": "fe0e7cf6-71ab-451a-92c5-54e168dacfc5",
   "metadata": {},
   "outputs": [],
   "source": []
  }
 ],
 "metadata": {
  "kernelspec": {
   "display_name": "Python 3",
   "language": "python",
   "name": "python3"
  },
  "language_info": {
   "codemirror_mode": {
    "name": "ipython",
    "version": 3
   },
   "file_extension": ".py",
   "mimetype": "text/x-python",
   "name": "python",
   "nbconvert_exporter": "python",
   "pygments_lexer": "ipython3",
   "version": "3.12.3"
  }
 },
 "nbformat": 4,
 "nbformat_minor": 5
}
