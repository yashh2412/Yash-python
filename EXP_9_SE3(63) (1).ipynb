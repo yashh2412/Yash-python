{
  "cells": [
    {
      "cell_type": "markdown",
      "source": [
        "# ***EXPERIMENT_9***"
      ],
      "metadata": {
        "id": "fhoyzI-Adq2X"
      }
    },
    {
      "cell_type": "markdown",
      "source": [
        "Name- Yash Pradeep Mharav\n",
        "\n",
        "Branch- SE3/CSE(DS)\n",
        "\n",
        "Roll no- 63"
      ],
      "metadata": {
        "id": "RVJGduyKdonN"
      }
    },
    {
      "cell_type": "code",
      "execution_count": 1,
      "metadata": {
        "id": "EId-VDtab9PG"
      },
      "outputs": [],
      "source": [
        "import threading"
      ]
    },
    {
      "cell_type": "code",
      "execution_count": 2,
      "metadata": {
        "id": "oYwk2THnb9PM"
      },
      "outputs": [],
      "source": [
        "import time"
      ]
    },
    {
      "cell_type": "code",
      "execution_count": 3,
      "metadata": {
        "colab": {
          "base_uri": "https://localhost:8080/"
        },
        "id": "-QBINAd_b9PO",
        "outputId": "9818d4fb-7d98-48eb-ad55-fe093fcc68c8"
      },
      "outputs": [
        {
          "output_type": "stream",
          "name": "stdout",
          "text": [
            "Thread 1 - Number: 1\n",
            "Thread 1 - Number: 2\n",
            "Thread 1 - Number: 3\n",
            "Thread 1 - Number: 4\n",
            "Thread 1 - Number: 5\n"
          ]
        }
      ],
      "source": [
        "def print_numbers():\n",
        "    for i in range(1, 6):\n",
        "        print(f\"Thread 1 - Number: {i}\")\n",
        "        time.sleep(1)\n",
        "thread1 = threading.Thread(target=print_numbers)\n",
        "thread1.start()\n",
        "thread1.join()"
      ]
    },
    {
      "cell_type": "code",
      "execution_count": null,
      "metadata": {
        "id": "cQkZ2OoRb9PS",
        "outputId": "1e656234-ac41-4ae3-810a-d2e3cba66811"
      },
      "outputs": [
        {
          "name": "stdout",
          "output_type": "stream",
          "text": [
            "Thread 2 - Letter: A\n",
            "Thread 2 - Letter: B\n",
            "Thread 2 - Letter: C\n",
            "Thread 2 - Letter: D\n",
            "Thread 2 - Letter: E\n"
          ]
        }
      ],
      "source": [
        "def print_letters():\n",
        "    for letter in 'ABCDE':\n",
        "        print(f\"Thread 2 - Letter: {letter}\")\n",
        "        time.sleep(1)\n",
        "thread2 = threading.Thread(target=print_letters)\n",
        "thread2.start()\n",
        "thread2.join()\n",
        ""
      ]
    },
    {
      "cell_type": "code",
      "execution_count": 4,
      "metadata": {
        "colab": {
          "base_uri": "https://localhost:8080/"
        },
        "id": "8yV2F1Nwb9PU",
        "outputId": "6c9cd0db-f808-4bc1-d16b-6b8aeb461433"
      },
      "outputs": [
        {
          "output_type": "stream",
          "name": "stdout",
          "text": [
            "Thread 3 - Square of 1: 1\n",
            "Thread 3 - Square of 2: 4\n",
            "Thread 3 - Square of 3: 9\n",
            "Thread 3 - Square of 4: 16\n",
            "Thread 3 - Square of 5: 25\n"
          ]
        }
      ],
      "source": [
        "def print_squares():\n",
        "    for i in range(1, 6):\n",
        "        print(f\"Thread 3 - Square of {i}: {i ** 2}\")\n",
        "        time.sleep(1)\n",
        "thread3 = threading.Thread(target=print_squares)\n",
        "thread3.start()\n",
        "thread3.join()"
      ]
    },
    {
      "cell_type": "code",
      "execution_count": null,
      "metadata": {
        "id": "KHsxYShHb9PW",
        "outputId": "3f4f55df-907e-4735-f5da-f4d12fa90cb7"
      },
      "outputs": [
        {
          "name": "stdout",
          "output_type": "stream",
          "text": [
            "All threads have finished executing.\n"
          ]
        }
      ],
      "source": [
        "print(\"All threads have finished executing.\")"
      ]
    }
  ],
  "metadata": {
    "kernelspec": {
      "display_name": "Python 3",
      "language": "python",
      "name": "python3"
    },
    "language_info": {
      "codemirror_mode": {
        "name": "ipython",
        "version": 3
      },
      "file_extension": ".py",
      "mimetype": "text/x-python",
      "name": "python",
      "nbconvert_exporter": "python",
      "pygments_lexer": "ipython3",
      "version": "3.11.4"
    },
    "colab": {
      "provenance": []
    }
  },
  "nbformat": 4,
  "nbformat_minor": 0
}