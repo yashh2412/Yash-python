{
  "cells": [
    {
      "cell_type": "markdown",
      "metadata": {
        "id": "d19VPLvPPrjI"
      },
      "source": [
        "### Strings in Python"
      ]
    },
    {
      "cell_type": "markdown",
      "source": [
        "***EXPERIMENT NO - 1***"
      ],
      "metadata": {
        "id": "uiBiV7faRKGB"
      }
    },
    {
      "cell_type": "markdown",
      "source": [
        "Name- Yash Pradeep Mharav\n",
        "\n",
        "Branch- SE3/CSE(DS)\n",
        "\n",
        "Roll no- 63"
      ],
      "metadata": {
        "id": "ETb_ET0sP2Ax"
      }
    },
    {
      "cell_type": "code",
      "execution_count": 1,
      "metadata": {
        "colab": {
          "base_uri": "https://localhost:8080/",
          "height": 0
        },
        "id": "bOv_C5i7PrjI",
        "outputId": "79bd9fd8-b3df-4480-ba82-70910b16d2ca"
      },
      "outputs": [
        {
          "output_type": "stream",
          "name": "stdout",
          "text": [
            "This is a string\n",
            "This is a string\n",
            "This is a string\n"
          ]
        }
      ],
      "source": [
        "# Assigning string to a variable\n",
        "a = 'This is a string'\n",
        "print (a)\n",
        "b = \"This is a string\"\n",
        "print (b)\n",
        "c= '''This is a string'''\n",
        "print (c)"
      ]
    },
    {
      "cell_type": "markdown",
      "metadata": {
        "id": "lp9KjncGPrjJ"
      },
      "source": [
        "### Lists in Python"
      ]
    },
    {
      "cell_type": "code",
      "execution_count": null,
      "metadata": {
        "id": "dXMCbMq9PrjJ",
        "outputId": "ee54d0a3-cf06-47d6-dd58-ffb3d914249d"
      },
      "outputs": [
        {
          "name": "stdout",
          "output_type": "stream",
          "text": [
            "[1, 'a', 'string', 3]\n",
            "[1, 'a', 'string', 3, 6]\n",
            "[1, 'a', 'string', 3]\n",
            "a\n"
          ]
        }
      ],
      "source": [
        "# Declaring a list\n",
        "L = [1, \"a\" , \"string\" , 1+2]\n",
        "print (L)\n",
        "#Adding an element in the list\n",
        "L.append(6)\n",
        "print (L)\n",
        "#Deleting last element from a list\n",
        "L.pop()\n",
        "print (L)\n",
        "#Displaying Second element of the list\n",
        "print (L[1])"
      ]
    },
    {
      "cell_type": "markdown",
      "metadata": {
        "id": "HFQi_NJ-PrjK"
      },
      "source": [
        "### Tuples in Python"
      ]
    },
    {
      "cell_type": "code",
      "execution_count": null,
      "metadata": {
        "id": "bJfdVLvAPrjK",
        "outputId": "82ecf4c8-ea41-4bda-803b-79ec18f011b0"
      },
      "outputs": [
        {
          "name": "stdout",
          "output_type": "stream",
          "text": [
            "(1, 'a', 'string', 3)\n",
            "a\n"
          ]
        }
      ],
      "source": [
        "tup = (1, \"a\", \"string\", 1+2)\n",
        "print(tup)\n",
        "print(tup[1])"
      ]
    },
    {
      "cell_type": "markdown",
      "metadata": {
        "id": "jQrju3oZPrjK"
      },
      "source": [
        "### Dictionaries in Python"
      ]
    },
    {
      "cell_type": "markdown",
      "metadata": {
        "id": "WVYJKjeDPrjK"
      },
      "source": [
        "A Python dictionary is a data structure that stores the value in key: value pairs. Values in a dictionary can be of any data type and can be duplicated, whereas keys can’t be repeated and must be immutable."
      ]
    },
    {
      "cell_type": "code",
      "execution_count": null,
      "metadata": {
        "id": "Kldzy8vgPrjK",
        "outputId": "e35672f3-fcfe-4217-c892-1018ddf38425"
      },
      "outputs": [
        {
          "name": "stdout",
          "output_type": "stream",
          "text": [
            "{1: 'Lorem', 2: 'Ipsum', 3: 'Dolerum'}\n"
          ]
        }
      ],
      "source": [
        "d = {1: 'Lorem', 2: 'Ipsum', 3: 'Dolerum'}\n",
        "print(d)"
      ]
    },
    {
      "cell_type": "markdown",
      "metadata": {
        "id": "Tv86LaA0PrjK"
      },
      "source": [
        "#### Create a Dictionary"
      ]
    },
    {
      "cell_type": "code",
      "execution_count": null,
      "metadata": {
        "id": "jGVU34pHPrjK",
        "outputId": "4e29fa34-7cf1-451f-9d1e-c06eced58a88"
      },
      "outputs": [
        {
          "name": "stdout",
          "output_type": "stream",
          "text": [
            "{1: 'Game', 2: 'of', 3: 'Thrones'}\n",
            "{'a': 'House', 'b': 'of', 'c': 'Cards'}\n"
          ]
        }
      ],
      "source": [
        "# create dictionary using { }\n",
        "d1 = {1: 'Game', 2: 'of', 3: 'Thrones'}\n",
        "print(d1)\n",
        "\n",
        "# create dictionary using dict() constructor\n",
        "d2 = dict(a = \"House\", b = \"of\", c = \"Cards\")\n",
        "print(d2)"
      ]
    },
    {
      "cell_type": "markdown",
      "metadata": {
        "id": "zaAwEK1aPrjK"
      },
      "source": [
        "#### Accessing Dictionary Items"
      ]
    },
    {
      "cell_type": "code",
      "execution_count": null,
      "metadata": {
        "id": "oIW7lkHIPrjL",
        "outputId": "b0678020-03d5-404e-a870-031a03580c7f"
      },
      "outputs": [
        {
          "name": "stdout",
          "output_type": "stream",
          "text": [
            "Alice\n",
            "Alice\n"
          ]
        }
      ],
      "source": [
        "d = { \"name\": \"Alice\", 1: \"Python\", (1, 2): [1,2,4] }\n",
        "\n",
        "# Access using key\n",
        "print(d[\"name\"])\n",
        "\n",
        "# Access using get()\n",
        "print(d.get(\"name\"))"
      ]
    },
    {
      "cell_type": "markdown",
      "metadata": {
        "id": "Bqdw6N2GPrjL"
      },
      "source": [
        "#### Adding and Updating Dictionary Items"
      ]
    },
    {
      "cell_type": "code",
      "execution_count": null,
      "metadata": {
        "id": "DIgbTwiyPrjL",
        "outputId": "74ec1dce-ef83-4d7b-bf31-593555b47939"
      },
      "outputs": [
        {
          "name": "stdout",
          "output_type": "stream",
          "text": [
            "{2: 'of', 3: 'Thrones', 'age': 22}\n"
          ]
        }
      ],
      "source": [
        "d = {1: 'Alice', 2: 'in', 3: 'Borderland'}\n",
        "\n",
        "# Adding a new key-value pair\n",
        "d[\"age\"] = 22\n",
        "\n",
        "# Updating an existing value\n",
        "d[1] = \"Python dict\"\n",
        "\n",
        "# Removing dict value\n",
        "d.pop(1)\n",
        "print(d)"
      ]
    }
  ],
  "metadata": {
    "kernelspec": {
      "display_name": "Python 3",
      "language": "python",
      "name": "python3"
    },
    "language_info": {
      "codemirror_mode": {
        "name": "ipython",
        "version": 3
      },
      "file_extension": ".py",
      "mimetype": "text/x-python",
      "name": "python",
      "nbconvert_exporter": "python",
      "pygments_lexer": "ipython3",
      "version": "3.12.2"
    },
    "colab": {
      "provenance": []
    }
  },
  "nbformat": 4,
  "nbformat_minor": 0
}