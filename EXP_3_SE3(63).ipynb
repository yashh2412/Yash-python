{
  "cells": [
    {
      "cell_type": "markdown",
      "source": [
        "#***EXPERIMENT NO- 3***"
      ],
      "metadata": {
        "id": "OpxMeDN4fqRy"
      }
    },
    {
      "cell_type": "markdown",
      "metadata": {
        "id": "2asrTKXYfLaf"
      },
      "source": [
        "Name- Yash Pradeep Mharav\n",
        "\n",
        "Branch- SE3/CSE(DS)\n",
        "\n",
        "Roll no- 63"
      ]
    },
    {
      "cell_type": "code",
      "execution_count": null,
      "metadata": {
        "id": "HWvZhzDIfLag",
        "outputId": "ec067a65-bd2e-4616-c062-69c3e00690d2"
      },
      "outputs": [
        {
          "name": "stdout",
          "output_type": "stream",
          "text": [
            "The person is a backend developer\n"
          ]
        }
      ],
      "source": [
        "class Employee:\n",
        "    def __init__ (\n",
        "            self,\n",
        "            designation : str = 'Developer',\n",
        "            frontend : bool = False,\n",
        "            backend : bool = True,\n",
        "    ):\n",
        "        self.designation = designation\n",
        "        self.frontend = frontend\n",
        "        self.backend = backend\n",
        "\n",
        "    def __repr__ (self):\n",
        "        return '{}'.format (self.designation, self.frontend, self.backend)\n",
        "\n",
        "\n",
        "    def verifier (self):\n",
        "      if self.frontend and self.backend:\n",
        "        self.designation=\"The person is full stack developer\"\n",
        "        return\n",
        "      if self.frontend:\n",
        "        self.designation=\"The person is a frontend developer\"\n",
        "        return\n",
        "      if self.backend:\n",
        "        self.designation =\"The person is a backend developer\"\n",
        "        return\n",
        "\n",
        "\n",
        "if __name__ == '__main__':\n",
        "    firstEmployee = Employee ()\n",
        "    firstEmployee.verifier()\n",
        "    print(firstEmployee)"
      ]
    }
  ],
  "metadata": {
    "kernelspec": {
      "display_name": "Python 3",
      "language": "python",
      "name": "python3"
    },
    "language_info": {
      "codemirror_mode": {
        "name": "ipython",
        "version": 3
      },
      "file_extension": ".py",
      "mimetype": "text/x-python",
      "name": "python",
      "nbconvert_exporter": "python",
      "pygments_lexer": "ipython3",
      "version": "3.11.8"
    },
    "colab": {
      "provenance": []
    }
  },
  "nbformat": 4,
  "nbformat_minor": 0
}