{
  "nbformat": 4,
  "nbformat_minor": 0,
  "metadata": {
    "colab": {
      "provenance": []
    },
    "kernelspec": {
      "name": "python3",
      "display_name": "Python 3"
    },
    "language_info": {
      "name": "python"
    }
  },
  "cells": [
    {
      "cell_type": "markdown",
      "source": [
        "#***EXPERIMENT NO- 4***"
      ],
      "metadata": {
        "id": "DICZ2QXPiRoT"
      }
    },
    {
      "cell_type": "markdown",
      "source": [
        "Name- Yash Pradeep Mharav\n",
        "\n",
        "Branch- SE3/CSE(DS)\n",
        "\n",
        "Roll no- 63"
      ],
      "metadata": {
        "id": "D1kaF6EriL_L"
      }
    },
    {
      "cell_type": "code",
      "execution_count": 1,
      "metadata": {
        "colab": {
          "base_uri": "https://localhost:8080/"
        },
        "id": "L-b6xfdNhL8y",
        "outputId": "310419c6-080d-4967-86e3-931af3a3bf1b"
      },
      "outputs": [
        {
          "output_type": "stream",
          "name": "stdout",
          "text": [
            "Middle\n",
            "Middle\n",
            "read file content Hello from the function\n",
            "Appending to the file...\n",
            "Reading after append operation...\n",
            "Final content in the file: Hello from the functionThis is appended text!\n",
            "\n"
          ]
        }
      ],
      "source": [
        "from contextlib import contextmanager\n",
        "\n",
        "@contextmanager\n",
        "def genericFileFunction (filename, method):\n",
        "    file = open (filename, method)\n",
        "    yield file\n",
        "    file.close ()\n",
        "\n",
        "\n",
        "if __name__ == '__main__':\n",
        "    with genericFileFunction ('./file.txt', 'w') as f:\n",
        "        print ('Middle')\n",
        "        f.write ('Hello from the function')\n",
        "\n",
        "    with genericFileFunction ('./file.txt', 'r') as f:\n",
        "        print ('Middle')\n",
        "        content = f.read()\n",
        "        print(\"read file content\",content)\n",
        "\n",
        "    with genericFileFunction('./file.txt', 'a') as f:\n",
        "        print('Appending to the file...')\n",
        "        f.write('This is appended text!\\n')\n",
        "\n",
        "    with genericFileFunction('./file.txt', 'r') as f:\n",
        "        print('Reading after append operation...')\n",
        "        content = f.read()\n",
        "        print('Final content in the file:', content)"
      ]
    }
  ]
}