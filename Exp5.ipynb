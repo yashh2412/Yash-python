{
  "nbformat": 4,
  "nbformat_minor": 0,
  "metadata": {
    "colab": {
      "provenance": [],
      "include_colab_link": true
    },
    "kernelspec": {
      "name": "python3",
      "display_name": "Python 3"
    },
    "language_info": {
      "name": "python"
    }
  },
  "cells": [
    {
      "cell_type": "markdown",
      "metadata": {
        "id": "view-in-github",
        "colab_type": "text"
      },
      "source": [
        "<a href=\"https://colab.research.google.com/github/yashh2412/Yash-python/blob/master/Exp5.ipynb\" target=\"_parent\"><img src=\"https://colab.research.google.com/assets/colab-badge.svg\" alt=\"Open In Colab\"/></a>"
      ]
    },
    {
      "cell_type": "markdown",
      "source": [
        "# ***EXPERIMENT NO - 5***"
      ],
      "metadata": {
        "id": "a2LAM44QjLoC"
      }
    },
    {
      "cell_type": "markdown",
      "source": [
        "Name- Yash Pradeep Mharav\n",
        "\n",
        "Branch- SE3/CSE(DS)\n",
        "\n",
        "Roll no- 63"
      ],
      "metadata": {
        "id": "HA-94APijF9S"
      }
    },
    {
      "cell_type": "code",
      "source": [
        "class StackDepth:\n",
        "    def maximumDepth(stringInput):\n",
        "        depth = 0\n",
        "        max_depth = 0\n",
        "\n",
        "        for char in stringInput:\n",
        "            if char == '(':\n",
        "                depth += 1\n",
        "                max_depth = max(max_depth, depth)\n",
        "            elif char == ')':\n",
        "                depth -= 1\n",
        "\n",
        "        return max_depth\n",
        "\n",
        "S = StackDepth\n",
        "\n",
        "s1 = \"((1+(2*3)+((8)/4))+1)\"\n",
        "print(\"Maximum Depth for s2:\", S.maximumDepth(s1))\n",
        "\n",
        "s2 = \"(1)+((2))+(((3)))\"\n",
        "print(\"Maximum Depth for s2:\", S.maximumDepth(s2))\n",
        "\n",
        "s3 = \"()(())((()()))\"\n",
        "print(\"Maximum Depth for s3:\", S.maximumDepth(s3))\n"
      ],
      "metadata": {
        "colab": {
          "base_uri": "https://localhost:8080/"
        },
        "id": "_G2sCMHeJy-U",
        "outputId": "f8e317ef-7cb6-4836-af6c-254174013e66"
      },
      "execution_count": null,
      "outputs": [
        {
          "output_type": "stream",
          "name": "stdout",
          "text": [
            "Maximum Depth for s2: 4\n",
            "Maximum Depth for s2: 3\n",
            "Maximum Depth for s3: 3\n"
          ]
        }
      ]
    }
  ]
}