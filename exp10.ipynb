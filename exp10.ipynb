{
  "nbformat": 4,
  "nbformat_minor": 0,
  "metadata": {
    "colab": {
      "provenance": [],
      "include_colab_link": true
    },
    "kernelspec": {
      "name": "python3",
      "display_name": "Python 3"
    },
    "language_info": {
      "name": "python"
    }
  },
  "cells": [
    {
      "cell_type": "markdown",
      "metadata": {
        "id": "view-in-github",
        "colab_type": "text"
      },
      "source": [
        "<a href=\"https://colab.research.google.com/github/yashh2412/Yash-python/blob/master/exp10.ipynb\" target=\"_parent\"><img src=\"https://colab.research.google.com/assets/colab-badge.svg\" alt=\"Open In Colab\"/></a>"
      ]
    },
    {
      "cell_type": "markdown",
      "source": [
        "# ***EXPERIMENT_10***"
      ],
      "metadata": {
        "id": "5p73hB9qlngp"
      }
    },
    {
      "cell_type": "markdown",
      "source": [
        "Name- Yash Pradeep Mharav\n",
        "\n",
        "Branch- SE3/CSE(DS)\n",
        "\n",
        "Roll no- 63"
      ],
      "metadata": {
        "id": "85kv7dDAleXw"
      }
    },
    {
      "cell_type": "code",
      "execution_count": null,
      "metadata": {
        "colab": {
          "base_uri": "https://localhost:8080/"
        },
        "id": "_kWNz_vDdvud",
        "outputId": "aced7eab-9ef2-4535-8290-94eabb376045"
      },
      "outputs": [
        {
          "output_type": "stream",
          "name": "stdout",
          "text": [
            "Pi: 3.141592653589793\n",
            "Euler's Number: 2.718281828459045\n"
          ]
        }
      ],
      "source": [
        "import math\n",
        "import numpy as np\n",
        "\n",
        "# Exploring basic NumPy methods (without array methods)\n",
        "\n",
        "# Mathematical Constants\n",
        "print(\"Pi:\", np.pi)\n",
        "print(\"Euler's Number:\", np.e)"
      ]
    },
    {
      "cell_type": "code",
      "source": [
        "# Trigonometric Functions\n",
        "angle_rad = np.deg2rad(45)  # Convert 45 degrees to radians\n",
        "print(\"Sin(45 degrees):\", np.sin(angle_rad))\n",
        "print(\"Cos(45 degrees):\", np.cos(angle_rad))\n",
        "print(\"Tan(45 degrees):\", np.tan(angle_rad))"
      ],
      "metadata": {
        "colab": {
          "base_uri": "https://localhost:8080/"
        },
        "id": "KDFaSl-FeAu3",
        "outputId": "e1ec7e06-4f7c-4c55-92fe-fe229416101b"
      },
      "execution_count": null,
      "outputs": [
        {
          "output_type": "stream",
          "name": "stdout",
          "text": [
            "Sin(45 degrees): 0.7071067811865475\n",
            "Cos(45 degrees): 0.7071067811865476\n",
            "Tan(45 degrees): 0.9999999999999999\n"
          ]
        }
      ]
    },
    {
      "cell_type": "code",
      "source": [
        "print(\"Exponential of 2:\", np.exp(2))\n",
        "print(\"Natural Log of 10:\", np.log(10))\n",
        "print(\"Log base 10 of 100:\", np.log10(100))\n",
        "print(\"Log base 2 of 8:\", np.log2(8))"
      ],
      "metadata": {
        "colab": {
          "base_uri": "https://localhost:8080/"
        },
        "id": "H-S69ZQ4eGL-",
        "outputId": "8aad4640-135f-498e-c3ae-65398c7c3f98"
      },
      "execution_count": null,
      "outputs": [
        {
          "output_type": "stream",
          "name": "stdout",
          "text": [
            "Exponential of 2: 7.38905609893065\n",
            "Natural Log of 10: 2.302585092994046\n",
            "Log base 10 of 100: 2.0\n",
            "Log base 2 of 8: 3.0\n"
          ]
        }
      ]
    },
    {
      "cell_type": "code",
      "source": [
        "# Rounding Functions\n",
        "print(\"Ceil of 4.3:\", np.ceil(4.3))\n",
        "print(\"Floor of 4.7:\", np.floor(4.7))\n",
        "print(\"Round 4.5:\", np.round(4.5))"
      ],
      "metadata": {
        "colab": {
          "base_uri": "https://localhost:8080/"
        },
        "id": "tbDhJqNleGkl",
        "outputId": "7b9712eb-f44e-4e33-ebfb-cdf3b9885e49"
      },
      "execution_count": null,
      "outputs": [
        {
          "output_type": "stream",
          "name": "stdout",
          "text": [
            "Ceil of 4.3: 5.0\n",
            "Floor of 4.7: 4.0\n",
            "Round 4.5: 4.0\n"
          ]
        }
      ]
    },
    {
      "cell_type": "code",
      "source": [
        "# Random Number Generation\n",
        "print(\"Random Number [0,1]:\", np.random.rand())\n",
        "print(\"Random Integer [1,10]:\", np.random.randint(1, 10))"
      ],
      "metadata": {
        "colab": {
          "base_uri": "https://localhost:8080/"
        },
        "id": "ap5FRp5tebjW",
        "outputId": "3bbc05fd-2228-4067-9bed-ef347bbdeee1"
      },
      "execution_count": null,
      "outputs": [
        {
          "output_type": "stream",
          "name": "stdout",
          "text": [
            "Random Number [0,1]: 0.5110381446088691\n",
            "Random Integer [1,10]: 8\n"
          ]
        }
      ]
    },
    {
      "cell_type": "code",
      "source": [
        "# Statistical Functions\n",
        "data = [1, 2, 3, 4, 5, 6, 7, 8, 9]\n",
        "print(\"Mean:\", np.mean(data))\n",
        "print(\"Median:\", np.median(data))\n",
        "print(\"Standard Deviation:\", np.std(data))\n",
        "print(\"Variance:\", np.var(data))"
      ],
      "metadata": {
        "colab": {
          "base_uri": "https://localhost:8080/"
        },
        "id": "RxoR2D7pebm1",
        "outputId": "3690f9cb-8ba4-4b6f-8c1e-2a61dcf626f7"
      },
      "execution_count": null,
      "outputs": [
        {
          "output_type": "stream",
          "name": "stdout",
          "text": [
            "Mean: 5.0\n",
            "Median: 5.0\n",
            "Standard Deviation: 2.581988897471611\n",
            "Variance: 6.666666666666667\n"
          ]
        }
      ]
    },
    {
      "cell_type": "code",
      "source": [
        "# Greatest Common Divisor (GCD) and Least Common Multiple (LCM)\n",
        "print(\"GCD of 24 and 36:\", np.gcd(24, 36))\n",
        "print(\"LCM of 6 and 8:\", np.lcm(6, 8))"
      ],
      "metadata": {
        "colab": {
          "base_uri": "https://localhost:8080/"
        },
        "id": "xNUQNxBFejic",
        "outputId": "91abed31-ac31-46b5-ff4a-27057d1b19aa"
      },
      "execution_count": null,
      "outputs": [
        {
          "output_type": "stream",
          "name": "stdout",
          "text": [
            "GCD of 24 and 36: 12\n",
            "LCM of 6 and 8: 24\n"
          ]
        }
      ]
    },
    {
      "cell_type": "code",
      "source": [
        "# Factorial and Power\n",
        "print(\"Factorial of 5:\", math.factorial(5))\n",
        "print(\"2 to the power of 3:\", np.power(2, 3))"
      ],
      "metadata": {
        "colab": {
          "base_uri": "https://localhost:8080/"
        },
        "id": "AZ3K4lixenUO",
        "outputId": "af964c1f-8622-486e-fd83-bdc677d5e210"
      },
      "execution_count": null,
      "outputs": [
        {
          "output_type": "stream",
          "name": "stdout",
          "text": [
            "Factorial of 5: 120\n",
            "2 to the power of 3: 8\n"
          ]
        }
      ]
    }
  ]
}